{
 "cells": [
  {
   "cell_type": "code",
   "execution_count": 2,
   "id": "c0e91a93",
   "metadata": {},
   "outputs": [
    {
     "name": "stdout",
     "output_type": "stream",
     "text": [
      "1 2 8\n"
     ]
    }
   ],
   "source": [
    "#(1).the result of the code.\n",
    "\n",
    "def func(a, b=6, c=8):\n",
    "    print(a, b, c)\n",
    "\n",
    "func(1, 2)"
   ]
  },
  {
   "cell_type": "code",
   "execution_count": null,
   "id": "79cfe429",
   "metadata": {},
   "outputs": [],
   "source": [
    "'''This funtion is taking a positional argument and 2 keyward argument. When function call m=is made, parameter passed are \n",
    "a=1,b=2. When the function is executed , parameter c=8 will be taken by default as its a keyword argument.\n",
    "   solution is = 1,2,8'''"
   ]
  },
  {
   "cell_type": "code",
   "execution_count": 3,
   "id": "f9bd1dc6",
   "metadata": {},
   "outputs": [
    {
     "name": "stdout",
     "output_type": "stream",
     "text": [
      "1 2 3\n"
     ]
    }
   ],
   "source": [
    "#(2):-the result of this code.\n",
    "\n",
    "def func(a, b, c=5):\n",
    "    print(a, b, c)\n",
    "\n",
    "func(1, c=3, b=2)"
   ]
  },
  {
   "cell_type": "code",
   "execution_count": null,
   "id": "c79eb6b4",
   "metadata": {},
   "outputs": [],
   "source": [
    "'''When we make function call, order will be positional argument and then keywords arguments. we can pass the keyword \n",
    "arguments in any order we want.\n",
    "Solution is 1,2,3'''"
   ]
  },
  {
   "cell_type": "code",
   "execution_count": 6,
   "id": "b16a5066",
   "metadata": {},
   "outputs": [
    {
     "name": "stdout",
     "output_type": "stream",
     "text": [
      "1 (2, 3)\n"
     ]
    }
   ],
   "source": [
    "#(3):-How about this code: what is its result.\n",
    "def func(a, *pargs):\n",
    "    print(a, pargs)\n",
    "\n",
    "func(1, 2, 3)"
   ]
  },
  {
   "cell_type": "code",
   "execution_count": null,
   "id": "43a15684",
   "metadata": {},
   "outputs": [],
   "source": [
    "'''The return type of *args parameter is tuple, where as **kargs will be dictionary\n",
    "solution is = 1,(2,3)'''"
   ]
  },
  {
   "cell_type": "code",
   "execution_count": 7,
   "id": "5b1e79d9",
   "metadata": {},
   "outputs": [
    {
     "name": "stdout",
     "output_type": "stream",
     "text": [
      "1 {'c': 3, 'b': 2}\n"
     ]
    }
   ],
   "source": [
    "#(4):-this code print.\n",
    "\n",
    "def func(a, **kargs):\n",
    "    print(a, kargs)\n",
    "    \n",
    "func(a=1, c=3, b=2)"
   ]
  },
  {
   "cell_type": "code",
   "execution_count": null,
   "id": "46f3ebe7",
   "metadata": {},
   "outputs": [],
   "source": [
    "'''The return type of  **kargs is  dictionary\n",
    "solution is = 1,{'c':3,'b':2}'''"
   ]
  },
  {
   "cell_type": "code",
   "execution_count": 9,
   "id": "a3b626d4",
   "metadata": {},
   "outputs": [
    {
     "name": "stdout",
     "output_type": "stream",
     "text": [
      "1 5 6 5\n"
     ]
    }
   ],
   "source": [
    "#(5):-\n",
    "\n",
    "def func(a, b, c=8, d=5): \n",
    "    print(a, b, c, d)\n",
    "\n",
    "func(1, *(5, 6))"
   ]
  },
  {
   "cell_type": "code",
   "execution_count": null,
   "id": "388bbad0",
   "metadata": {},
   "outputs": [],
   "source": [
    "\"\"\"'*' is the unpacking operator and are operators that unpack the values from iterable objects in Python.\n",
    "The single asterisk operator * can be used on any iterable that Python provides, while the double asterisk \n",
    "operator ** can only be used on dictionaries. In the example the value *(5,6) will be unpacked and will be assigned\n",
    "to b and c and passed as arguments, d =5 will taken by defaults are keyword arguments.\n",
    "Solution 1,5,6,5\"\"\""
   ]
  },
  {
   "cell_type": "code",
   "execution_count": 10,
   "id": "68a56470",
   "metadata": {},
   "outputs": [
    {
     "data": {
      "text/plain": [
       "(1, ['x'], {'a': 'y'})"
      ]
     },
     "execution_count": 10,
     "metadata": {},
     "output_type": "execute_result"
    }
   ],
   "source": [
    "#(6):-\n",
    "\n",
    "def func(a, b, c): \n",
    "    a = 2; b[0] = 'x'; c['a'] = 'y'\n",
    "    \n",
    "l=1; m=[1]; n={'a':0}\n",
    "func(l, m, n)\n",
    "\n",
    "l, m, n\n"
   ]
  },
  {
   "cell_type": "code",
   "execution_count": null,
   "id": "da269515",
   "metadata": {},
   "outputs": [],
   "source": [
    "'''Here in the code, the list and dict are passed as argument, and those are mutable. Here the list l and parameter b point \n",
    "to the same list in the memory location where as dict n and c point to the same memory location. Any updates to this list\n",
    "will update in the memory locationl = 1 , integer values, immutable, m is list, mutable, n is dict, mutable.\n",
    " output will be = 1,['x'],{'a':'y'}'''"
   ]
  }
 ],
 "metadata": {
  "kernelspec": {
   "display_name": "Python 3 (ipykernel)",
   "language": "python",
   "name": "python3"
  },
  "language_info": {
   "codemirror_mode": {
    "name": "ipython",
    "version": 3
   },
   "file_extension": ".py",
   "mimetype": "text/x-python",
   "name": "python",
   "nbconvert_exporter": "python",
   "pygments_lexer": "ipython3",
   "version": "3.9.7"
  }
 },
 "nbformat": 4,
 "nbformat_minor": 5
}
